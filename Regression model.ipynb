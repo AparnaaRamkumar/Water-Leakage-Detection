{
 "cells": [
  {
   "cell_type": "code",
   "execution_count": 3,
   "id": "5e5c6e2c-e574-4386-a823-7f9d0feca655",
   "metadata": {},
   "outputs": [],
   "source": [
    "import pandas as pd\n",
    "import numpy as np"
   ]
  },
  {
   "cell_type": "code",
   "execution_count": 5,
   "id": "fb00e7ed-464f-49f1-87b2-346c8ed45a93",
   "metadata": {},
   "outputs": [
    {
     "name": "stdout",
     "output_type": "stream",
     "text": [
      "Mean Squared Error: 190.47\n",
      "Predicted Leakage Severity: 19.21\n"
     ]
    }
   ],
   "source": [
    "# Load the dataset\n",
    "df = pd.read_excel('water_leakage_regression_data.xlsx')\n",
    "\n",
    "# Split features and target\n",
    "X = df.drop(columns='Leakage Severity').values  # Features\n",
    "y = df['Leakage Severity'].values  # Target\n",
    "\n",
    "# Add a bias column to X (for the intercept term in linear regression)\n",
    "X = np.hstack((np.ones((X.shape[0], 1)), X))  # Adds a column of ones to X\n",
    "\n",
    "# Linear Regression Implementation\n",
    "class LinearRegressionManual:\n",
    "    def __init__(self):\n",
    "        self.weights = None\n",
    "\n",
    "    def fit(self, X, y):\n",
    "        X_transpose = X.T\n",
    "        self.weights = np.linalg.inv(X_transpose @ X) @ (X_transpose @ y)\n",
    "\n",
    "    def predict(self, X):\n",
    "        return X @ self.weights\n",
    "\n",
    "# Train the regression model\n",
    "lr = LinearRegressionManual()\n",
    "lr.fit(X, y)\n",
    "\n",
    "# Predict on the training data\n",
    "predictions = lr.predict(X)\n",
    "\n",
    "# Evaluate the model\n",
    "mse = np.mean((y - predictions) ** 2)  # Mean Squared Error\n",
    "print(f\"Mean Squared Error: {mse:.2f}\")\n",
    "\n",
    "# Predict for a new sample\n",
    "new_sample = np.array([[1, 37, 65, 35.7, 69, 0]])  # Include bias term\n",
    "new_prediction = lr.predict(new_sample)\n",
    "print(f\"Predicted Leakage Severity: {new_prediction[0]:.2f}\")"
   ]
  },
  {
   "cell_type": "code",
   "execution_count": null,
   "id": "ba2f49a1-7e14-495a-878d-2dfbda780406",
   "metadata": {},
   "outputs": [],
   "source": []
  }
 ],
 "metadata": {
  "kernelspec": {
   "display_name": "Python [conda env:base] *",
   "language": "python",
   "name": "conda-base-py"
  },
  "language_info": {
   "codemirror_mode": {
    "name": "ipython",
    "version": 3
   },
   "file_extension": ".py",
   "mimetype": "text/x-python",
   "name": "python",
   "nbconvert_exporter": "python",
   "pygments_lexer": "ipython3",
   "version": "3.12.7"
  }
 },
 "nbformat": 4,
 "nbformat_minor": 5
}
