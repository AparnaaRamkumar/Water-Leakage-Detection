{
 "cells": [
  {
   "cell_type": "code",
   "execution_count": 3,
   "id": "a4ae1dde-630d-4494-b900-4d0ee6f0282a",
   "metadata": {},
   "outputs": [
    {
     "name": "stdout",
     "output_type": "stream",
     "text": [
      "Synthetic dataset saved to synthetic_water_leakage_with_labels.csv\n"
     ]
    }
   ],
   "source": [
    "import pandas as pd\n",
    "import numpy as np\n",
    "\n",
    "# Generate synthetic data\n",
    "np.random.seed(42)\n",
    "\n",
    "# Define cluster centers and features\n",
    "cluster_1_center = [5, 5]  # Low pressure, suburban\n",
    "cluster_2_center = [15, 5]  # Industrial area, high pressure\n",
    "cluster_3_center = [10, 15]  # Elevated area, medium pressure\n",
    "\n",
    "# Simulate clusters with added variation\n",
    "cluster_1 = np.random.normal(loc=cluster_1_center, scale=[1.5, 1.0], size=(50, 2))\n",
    "cluster_2 = np.random.normal(loc=cluster_2_center, scale=[1.0, 1.5], size=(50, 2))\n",
    "cluster_3 = np.random.normal(loc=cluster_3_center, scale=[1.5, 1.5], size=(50, 2))\n",
    "\n",
    "# Combine data into a single dataset\n",
    "data = np.vstack((cluster_1, cluster_2, cluster_3))\n",
    "\n",
    "# Create a DataFrame with descriptive labels\n",
    "labels = [\"Suburban Low Pressure\"] * 50 + [\"Industrial High Pressure\"] * 50 + [\"Elevated Medium Pressure\"] * 50\n",
    "df = pd.DataFrame(data, columns=[\"Pressure\", \"Elevation\"])\n",
    "df[\"Region_Type\"] = labels\n",
    "df[\"ID\"] = range(1, len(df) + 1)\n",
    "\n",
    "# Save the dataset to a CSV file\n",
    "file_path = \"synthetic_water_leakage_with_labels.csv\"\n",
    "df.to_csv(file_path, index=False)\n",
    "print(f\"Synthetic dataset saved to {file_path}\")"
   ]
  },
  {
   "cell_type": "code",
   "execution_count": null,
   "id": "0763e81a-0daa-4ed5-a5a8-4b1919b321f5",
   "metadata": {},
   "outputs": [],
   "source": []
  }
 ],
 "metadata": {
  "kernelspec": {
   "display_name": "Python [conda env:base] *",
   "language": "python",
   "name": "conda-base-py"
  },
  "language_info": {
   "codemirror_mode": {
    "name": "ipython",
    "version": 3
   },
   "file_extension": ".py",
   "mimetype": "text/x-python",
   "name": "python",
   "nbconvert_exporter": "python",
   "pygments_lexer": "ipython3",
   "version": "3.12.7"
  }
 },
 "nbformat": 4,
 "nbformat_minor": 5
}
