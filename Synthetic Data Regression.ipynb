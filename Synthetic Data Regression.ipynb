{
 "cells": [
  {
   "cell_type": "code",
   "execution_count": 1,
   "id": "9dfb4e8f-c889-4b96-884e-4bb77d8b50dd",
   "metadata": {},
   "outputs": [
    {
     "name": "stdout",
     "output_type": "stream",
     "text": [
      "Synthetic regression data saved to 'water_leakage_regression_data.xlsx'\n"
     ]
    }
   ],
   "source": [
    "import pandas as pd\n",
    "import numpy as np\n",
    "import random\n",
    "\n",
    "# Generate synthetic dataset for regression\n",
    "def generate_regression_data(n_samples=1000):\n",
    "    data = []\n",
    "    for _ in range(n_samples):\n",
    "        pipe_age = random.randint(1, 50)  # in years\n",
    "        pressure = random.randint(30, 200)  # in psi\n",
    "        temperature = random.uniform(0, 40)  # in Celsius\n",
    "        humidity = random.randint(20, 90)  # in percentage\n",
    "        cracks = random.choice([0, 1])  # 0: no cracks, 1: cracks present\n",
    "        \n",
    "        # Severity of leakage (continuous target)\n",
    "        leakage_severity = (\n",
    "            0.3 * pipe_age + \n",
    "            0.5 * cracks * pressure - \n",
    "            0.2 * temperature + \n",
    "            0.4 * humidity +\n",
    "            random.uniform(-10, 10)  # noise\n",
    "        )\n",
    "        \n",
    "        data.append([pipe_age, pressure, temperature, humidity, cracks, leakage_severity])\n",
    "    \n",
    "    # Convert to pandas DataFrame\n",
    "    df = pd.DataFrame(data, columns=['Pipe Age', 'Pressure', 'Temperature', 'Humidity', 'Cracks', 'Leakage Severity'])\n",
    "    return df\n",
    "\n",
    "# Create the synthetic dataset\n",
    "df = generate_regression_data(1000)\n",
    "\n",
    "# Save the dataset to an Excel file\n",
    "df.to_excel('water_leakage_regression_data.xlsx', index=False)\n",
    "\n",
    "print(\"Synthetic regression data saved to 'water_leakage_regression_data.xlsx'\")"
   ]
  },
  {
   "cell_type": "code",
   "execution_count": null,
   "id": "ff7c65a2-4f01-4bbd-b870-25da47c99ba3",
   "metadata": {},
   "outputs": [],
   "source": []
  }
 ],
 "metadata": {
  "kernelspec": {
   "display_name": "Python [conda env:base] *",
   "language": "python",
   "name": "conda-base-py"
  },
  "language_info": {
   "codemirror_mode": {
    "name": "ipython",
    "version": 3
   },
   "file_extension": ".py",
   "mimetype": "text/x-python",
   "name": "python",
   "nbconvert_exporter": "python",
   "pygments_lexer": "ipython3",
   "version": "3.12.7"
  }
 },
 "nbformat": 4,
 "nbformat_minor": 5
}
