{
 "cells": [
  {
   "cell_type": "code",
   "execution_count": 2,
   "id": "1f42e530-c9bc-4d05-8f0a-402c73fb463b",
   "metadata": {},
   "outputs": [
    {
     "name": "stdout",
     "output_type": "stream",
     "text": [
      "Accuracy: 100.00%\n"
     ]
    }
   ],
   "source": [
    "import pandas as pd\n",
    "import numpy as np\n",
    "from collections import Counter\n",
    "\n",
    "# Read the dataset from the Excel file\n",
    "df = pd.read_excel('water_leakage_data.xlsx')\n",
    "\n",
    "# Split the features and target variable\n",
    "X = df.drop(columns='Leakage').values\n",
    "y = df['Leakage'].values\n",
    "\n",
    "# Basic Decision Tree Algorithm (recursive split)\n",
    "class DecisionTree:\n",
    "    def __init__(self, max_depth=5):\n",
    "        self.max_depth = max_depth\n",
    "        self.tree = None\n",
    "\n",
    "    def fit(self, X, y):\n",
    "        self.tree = self._build_tree(X, y, depth=0)\n",
    "\n",
    "    def _build_tree(self, X, y, depth):\n",
    "        n_samples, n_features = X.shape\n",
    "        unique_classes = np.unique(y)\n",
    "\n",
    "        # Stopping condition\n",
    "        if len(unique_classes) == 1:\n",
    "            return unique_classes[0]\n",
    "        if depth == self.max_depth:\n",
    "            return Counter(y).most_common(1)[0][0]\n",
    "\n",
    "        # Find best split\n",
    "        best_split = self._best_split(X, y)\n",
    "        left_data = X[best_split['left_indices']]\n",
    "        left_labels = y[best_split['left_indices']]\n",
    "        right_data = X[best_split['right_indices']]\n",
    "        right_labels = y[best_split['right_indices']]\n",
    "\n",
    "        left_node = self._build_tree(left_data, left_labels, depth + 1)\n",
    "        right_node = self._build_tree(right_data, right_labels, depth + 1)\n",
    "\n",
    "        return {\n",
    "            'feature_index': best_split['feature_index'],\n",
    "            'threshold': best_split['threshold'],\n",
    "            'left': left_node,\n",
    "            'right': right_node\n",
    "        }\n",
    "\n",
    "    def _best_split(self, X, y):\n",
    "        n_samples, n_features = X.shape\n",
    "        best_split = {'feature_index': None, 'threshold': None, 'left_indices': None, 'right_indices': None}\n",
    "        best_gini = float('inf')\n",
    "\n",
    "        for feature_index in range(n_features):\n",
    "            thresholds = np.unique(X[:, feature_index])\n",
    "            for threshold in thresholds:\n",
    "                left_indices = np.where(X[:, feature_index] <= threshold)[0]\n",
    "                right_indices = np.where(X[:, feature_index] > threshold)[0]\n",
    "\n",
    "                if len(left_indices) == 0 or len(right_indices) == 0:\n",
    "                    continue\n",
    "\n",
    "                gini = self._gini_impurity(y[left_indices], y[right_indices])\n",
    "                if gini < best_gini:\n",
    "                    best_gini = gini\n",
    "                    best_split['feature_index'] = feature_index\n",
    "                    best_split['threshold'] = threshold\n",
    "                    best_split['left_indices'] = left_indices\n",
    "                    best_split['right_indices'] = right_indices\n",
    "\n",
    "        return best_split\n",
    "\n",
    "    def _gini_impurity(self, left_labels, right_labels):\n",
    "        left_size = len(left_labels)\n",
    "        right_size = len(right_labels)\n",
    "        total_size = left_size + right_size\n",
    "\n",
    "        left_gini = 1 - sum((np.sum(left_labels == cls) / left_size) ** 2 for cls in np.unique(left_labels))\n",
    "        right_gini = 1 - sum((np.sum(right_labels == cls) / right_size) ** 2 for cls in np.unique(right_labels))\n",
    "\n",
    "        return (left_size / total_size) * left_gini + (right_size / total_size) * right_gini\n",
    "\n",
    "    def predict(self, X):\n",
    "        return np.array([self._predict_single(sample, self.tree) for sample in X])\n",
    "\n",
    "    def _predict_single(self, sample, tree):\n",
    "        if not isinstance(tree, dict):\n",
    "            return tree\n",
    "\n",
    "        if sample[tree['feature_index']] <= tree['threshold']:\n",
    "            return self._predict_single(sample, tree['left'])\n",
    "        else:\n",
    "            return self._predict_single(sample, tree['right'])\n",
    "\n",
    "# Train a decision tree classifier\n",
    "dt = DecisionTree(max_depth=5)\n",
    "dt.fit(X, y)\n",
    "\n",
    "# Make predictions\n",
    "predictions = dt.predict(X)\n",
    "\n",
    "# Evaluate accuracy\n",
    "accuracy = np.sum(predictions == y) / len(y)\n",
    "print(f\"Accuracy: {accuracy * 100:.2f}%\")"
   ]
  },
  {
   "cell_type": "code",
   "execution_count": 10,
   "id": "6fe227a1-09a7-41cc-9c42-4573f695a207",
   "metadata": {},
   "outputs": [
    {
     "data": {
      "text/plain": [
       "array([0], dtype=int64)"
      ]
     },
     "execution_count": 10,
     "metadata": {},
     "output_type": "execute_result"
    }
   ],
   "source": [
    "new_pred=dt.predict([[37,65,35.74646675,69,0]])\n",
    "new_pred"
   ]
  },
  {
   "cell_type": "code",
   "execution_count": 12,
   "id": "18d43674-cbd5-491c-8c4d-d8d923586576",
   "metadata": {},
   "outputs": [
    {
     "data": {
      "text/plain": [
       "array([1], dtype=int64)"
      ]
     },
     "execution_count": 12,
     "metadata": {},
     "output_type": "execute_result"
    }
   ],
   "source": [
    "new_pred1=dt.predict([[47,117,22.02254077,54,1]])\n",
    "new_pred1"
   ]
  },
  {
   "cell_type": "code",
   "execution_count": null,
   "id": "2a0737ad-9c95-4ac1-b576-8c18eb230867",
   "metadata": {},
   "outputs": [],
   "source": []
  }
 ],
 "metadata": {
  "kernelspec": {
   "display_name": "Python [conda env:base] *",
   "language": "python",
   "name": "conda-base-py"
  },
  "language_info": {
   "codemirror_mode": {
    "name": "ipython",
    "version": 3
   },
   "file_extension": ".py",
   "mimetype": "text/x-python",
   "name": "python",
   "nbconvert_exporter": "python",
   "pygments_lexer": "ipython3",
   "version": "3.12.7"
  }
 },
 "nbformat": 4,
 "nbformat_minor": 5
}
