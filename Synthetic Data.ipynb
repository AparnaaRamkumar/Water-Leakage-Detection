{
 "cells": [
  {
   "cell_type": "code",
   "execution_count": 1,
   "id": "d6b62588-3fc3-4749-bdfe-d8493a45eb9c",
   "metadata": {},
   "outputs": [
    {
     "name": "stdout",
     "output_type": "stream",
     "text": [
      "Synthetic data saved to 'water_leakage_data.xlsx'\n"
     ]
    }
   ],
   "source": [
    "import pandas as pd\n",
    "import numpy as np\n",
    "import random\n",
    "\n",
    "# Generate synthetic dataset\n",
    "def generate_data(n_samples=1000):\n",
    "    data = []\n",
    "    for _ in range(n_samples):\n",
    "        pipe_age = random.randint(1, 50)  # in years\n",
    "        pressure = random.randint(30, 200)  # in psi\n",
    "        temperature = random.uniform(0, 40)  # in Celsius\n",
    "        humidity = random.randint(20, 90)  # in percentage\n",
    "        cracks = random.choice([0, 1])  # 0: no cracks, 1: cracks present\n",
    "        \n",
    "        # Leakage label based on simple rules\n",
    "        leakage = 0\n",
    "        if cracks == 1 and pipe_age > 20:\n",
    "            leakage = 1\n",
    "        elif pressure < 50 and humidity > 75:\n",
    "            leakage = 1\n",
    "        elif temperature > 35 and cracks == 1:\n",
    "            leakage = 1\n",
    "        \n",
    "        data.append([pipe_age, pressure, temperature, humidity, cracks, leakage])\n",
    "    \n",
    "    # Convert to pandas DataFrame\n",
    "    df = pd.DataFrame(data, columns=['Pipe Age', 'Pressure', 'Temperature', 'Humidity', 'Cracks', 'Leakage'])\n",
    "    return df\n",
    "\n",
    "# Create the synthetic dataset\n",
    "df = generate_data(1000)\n",
    "\n",
    "# Save the dataset to an Excel file\n",
    "df.to_excel('water_leakage_data.xlsx', index=False)\n",
    "\n",
    "print(\"Synthetic data saved to 'water_leakage_data.xlsx'\")"
   ]
  },
  {
   "cell_type": "code",
   "execution_count": null,
   "id": "cdfa6490-af58-4bac-a45b-2ad69cbeef2d",
   "metadata": {},
   "outputs": [],
   "source": []
  }
 ],
 "metadata": {
  "kernelspec": {
   "display_name": "Python [conda env:base] *",
   "language": "python",
   "name": "conda-base-py"
  },
  "language_info": {
   "codemirror_mode": {
    "name": "ipython",
    "version": 3
   },
   "file_extension": ".py",
   "mimetype": "text/x-python",
   "name": "python",
   "nbconvert_exporter": "python",
   "pygments_lexer": "ipython3",
   "version": "3.12.7"
  }
 },
 "nbformat": 4,
 "nbformat_minor": 5
}
